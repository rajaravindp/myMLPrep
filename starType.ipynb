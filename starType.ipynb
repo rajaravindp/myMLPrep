{
  "nbformat": 4,
  "nbformat_minor": 0,
  "metadata": {
    "colab": {
      "provenance": [],
      "machine_shape": "hm",
      "gpuType": "T4"
    },
    "kernelspec": {
      "name": "python3",
      "display_name": "Python 3"
    },
    "language_info": {
      "name": "python"
    },
    "accelerator": "GPU"
  },
  "cells": [
    {
      "cell_type": "code",
      "execution_count": 1,
      "metadata": {
        "id": "q38cqS9lAEPR"
      },
      "outputs": [],
      "source": [
        "import os\n",
        "import pandas as pd"
      ]
    },
    {
      "cell_type": "code",
      "source": [
        "!pip install -q kaggle"
      ],
      "metadata": {
        "id": "IHo8V-KVA84v"
      },
      "execution_count": 2,
      "outputs": []
    },
    {
      "cell_type": "code",
      "source": [
        "!mkdir -p ~/.kaggle\n",
        "!cp /content/kaggle.json ~/.kaggle/\n",
        "!chmod 600 ~/.kaggle/kaggle.json"
      ],
      "metadata": {
        "id": "oktwBDqPgOK1"
      },
      "execution_count": null,
      "outputs": []
    },
    {
      "cell_type": "code",
      "source": [
        "# Download data\n",
        "!kaggle datasets download -d deepu1109/star-dataset"
      ],
      "metadata": {
        "colab": {
          "base_uri": "https://localhost:8080/"
        },
        "id": "yQwF34VtAOc5",
        "outputId": "4eaa655a-9b7f-4552-e016-586acf07981a"
      },
      "execution_count": 14,
      "outputs": [
        {
          "output_type": "stream",
          "name": "stdout",
          "text": [
            "Dataset URL: https://www.kaggle.com/datasets/deepu1109/star-dataset\n",
            "License(s): copyright-authors\n",
            "Downloading star-dataset.zip to /content\n",
            "  0% 0.00/3.16k [00:00<?, ?B/s]\n",
            "100% 3.16k/3.16k [00:00<00:00, 6.64MB/s]\n"
          ]
        }
      ]
    },
    {
      "cell_type": "code",
      "source": [
        "# Unzip and prep dataset\n",
        "!unzip star-dataset.zip"
      ],
      "metadata": {
        "colab": {
          "base_uri": "https://localhost:8080/"
        },
        "id": "RqkffdjfBYjx",
        "outputId": "0db460c7-7fce-4587-8e28-f33bb69ce8a8"
      },
      "execution_count": 15,
      "outputs": [
        {
          "output_type": "stream",
          "name": "stdout",
          "text": [
            "Archive:  star-dataset.zip\n",
            "  inflating: 6 class csv.csv         \n"
          ]
        }
      ]
    },
    {
      "cell_type": "code",
      "source": [
        "df = pd.read_csv(\"/content/6 class csv.csv\")"
      ],
      "metadata": {
        "id": "oXKetQXGBcox"
      },
      "execution_count": 16,
      "outputs": []
    },
    {
      "cell_type": "code",
      "source": [
        "df.head(3)"
      ],
      "metadata": {
        "colab": {
          "base_uri": "https://localhost:8080/",
          "height": 143
        },
        "id": "itj9ZtLPv4Nz",
        "outputId": "342b776a-6c67-4942-ce4d-a1d00f82487f"
      },
      "execution_count": 17,
      "outputs": [
        {
          "output_type": "execute_result",
          "data": {
            "text/plain": [
              "   Temperature (K)  Luminosity(L/Lo)  Radius(R/Ro)  Absolute magnitude(Mv)  \\\n",
              "0             3068            0.0024        0.1700                   16.12   \n",
              "1             3042            0.0005        0.1542                   16.60   \n",
              "2             2600            0.0003        0.1020                   18.70   \n",
              "\n",
              "   Star type Star color Spectral Class  \n",
              "0          0        Red              M  \n",
              "1          0        Red              M  \n",
              "2          0        Red              M  "
            ],
            "text/html": [
              "\n",
              "  <div id=\"df-a66d8e21-20f8-43f8-a494-16574c16ffd2\" class=\"colab-df-container\">\n",
              "    <div>\n",
              "<style scoped>\n",
              "    .dataframe tbody tr th:only-of-type {\n",
              "        vertical-align: middle;\n",
              "    }\n",
              "\n",
              "    .dataframe tbody tr th {\n",
              "        vertical-align: top;\n",
              "    }\n",
              "\n",
              "    .dataframe thead th {\n",
              "        text-align: right;\n",
              "    }\n",
              "</style>\n",
              "<table border=\"1\" class=\"dataframe\">\n",
              "  <thead>\n",
              "    <tr style=\"text-align: right;\">\n",
              "      <th></th>\n",
              "      <th>Temperature (K)</th>\n",
              "      <th>Luminosity(L/Lo)</th>\n",
              "      <th>Radius(R/Ro)</th>\n",
              "      <th>Absolute magnitude(Mv)</th>\n",
              "      <th>Star type</th>\n",
              "      <th>Star color</th>\n",
              "      <th>Spectral Class</th>\n",
              "    </tr>\n",
              "  </thead>\n",
              "  <tbody>\n",
              "    <tr>\n",
              "      <th>0</th>\n",
              "      <td>3068</td>\n",
              "      <td>0.0024</td>\n",
              "      <td>0.1700</td>\n",
              "      <td>16.12</td>\n",
              "      <td>0</td>\n",
              "      <td>Red</td>\n",
              "      <td>M</td>\n",
              "    </tr>\n",
              "    <tr>\n",
              "      <th>1</th>\n",
              "      <td>3042</td>\n",
              "      <td>0.0005</td>\n",
              "      <td>0.1542</td>\n",
              "      <td>16.60</td>\n",
              "      <td>0</td>\n",
              "      <td>Red</td>\n",
              "      <td>M</td>\n",
              "    </tr>\n",
              "    <tr>\n",
              "      <th>2</th>\n",
              "      <td>2600</td>\n",
              "      <td>0.0003</td>\n",
              "      <td>0.1020</td>\n",
              "      <td>18.70</td>\n",
              "      <td>0</td>\n",
              "      <td>Red</td>\n",
              "      <td>M</td>\n",
              "    </tr>\n",
              "  </tbody>\n",
              "</table>\n",
              "</div>\n",
              "    <div class=\"colab-df-buttons\">\n",
              "\n",
              "  <div class=\"colab-df-container\">\n",
              "    <button class=\"colab-df-convert\" onclick=\"convertToInteractive('df-a66d8e21-20f8-43f8-a494-16574c16ffd2')\"\n",
              "            title=\"Convert this dataframe to an interactive table.\"\n",
              "            style=\"display:none;\">\n",
              "\n",
              "  <svg xmlns=\"http://www.w3.org/2000/svg\" height=\"24px\" viewBox=\"0 -960 960 960\">\n",
              "    <path d=\"M120-120v-720h720v720H120Zm60-500h600v-160H180v160Zm220 220h160v-160H400v160Zm0 220h160v-160H400v160ZM180-400h160v-160H180v160Zm440 0h160v-160H620v160ZM180-180h160v-160H180v160Zm440 0h160v-160H620v160Z\"/>\n",
              "  </svg>\n",
              "    </button>\n",
              "\n",
              "  <style>\n",
              "    .colab-df-container {\n",
              "      display:flex;\n",
              "      gap: 12px;\n",
              "    }\n",
              "\n",
              "    .colab-df-convert {\n",
              "      background-color: #E8F0FE;\n",
              "      border: none;\n",
              "      border-radius: 50%;\n",
              "      cursor: pointer;\n",
              "      display: none;\n",
              "      fill: #1967D2;\n",
              "      height: 32px;\n",
              "      padding: 0 0 0 0;\n",
              "      width: 32px;\n",
              "    }\n",
              "\n",
              "    .colab-df-convert:hover {\n",
              "      background-color: #E2EBFA;\n",
              "      box-shadow: 0px 1px 2px rgba(60, 64, 67, 0.3), 0px 1px 3px 1px rgba(60, 64, 67, 0.15);\n",
              "      fill: #174EA6;\n",
              "    }\n",
              "\n",
              "    .colab-df-buttons div {\n",
              "      margin-bottom: 4px;\n",
              "    }\n",
              "\n",
              "    [theme=dark] .colab-df-convert {\n",
              "      background-color: #3B4455;\n",
              "      fill: #D2E3FC;\n",
              "    }\n",
              "\n",
              "    [theme=dark] .colab-df-convert:hover {\n",
              "      background-color: #434B5C;\n",
              "      box-shadow: 0px 1px 3px 1px rgba(0, 0, 0, 0.15);\n",
              "      filter: drop-shadow(0px 1px 2px rgba(0, 0, 0, 0.3));\n",
              "      fill: #FFFFFF;\n",
              "    }\n",
              "  </style>\n",
              "\n",
              "    <script>\n",
              "      const buttonEl =\n",
              "        document.querySelector('#df-a66d8e21-20f8-43f8-a494-16574c16ffd2 button.colab-df-convert');\n",
              "      buttonEl.style.display =\n",
              "        google.colab.kernel.accessAllowed ? 'block' : 'none';\n",
              "\n",
              "      async function convertToInteractive(key) {\n",
              "        const element = document.querySelector('#df-a66d8e21-20f8-43f8-a494-16574c16ffd2');\n",
              "        const dataTable =\n",
              "          await google.colab.kernel.invokeFunction('convertToInteractive',\n",
              "                                                    [key], {});\n",
              "        if (!dataTable) return;\n",
              "\n",
              "        const docLinkHtml = 'Like what you see? Visit the ' +\n",
              "          '<a target=\"_blank\" href=https://colab.research.google.com/notebooks/data_table.ipynb>data table notebook</a>'\n",
              "          + ' to learn more about interactive tables.';\n",
              "        element.innerHTML = '';\n",
              "        dataTable['output_type'] = 'display_data';\n",
              "        await google.colab.output.renderOutput(dataTable, element);\n",
              "        const docLink = document.createElement('div');\n",
              "        docLink.innerHTML = docLinkHtml;\n",
              "        element.appendChild(docLink);\n",
              "      }\n",
              "    </script>\n",
              "  </div>\n",
              "\n",
              "\n",
              "<div id=\"df-d9e5aa34-92b6-4fb4-9aa4-cd8a0f3a075d\">\n",
              "  <button class=\"colab-df-quickchart\" onclick=\"quickchart('df-d9e5aa34-92b6-4fb4-9aa4-cd8a0f3a075d')\"\n",
              "            title=\"Suggest charts\"\n",
              "            style=\"display:none;\">\n",
              "\n",
              "<svg xmlns=\"http://www.w3.org/2000/svg\" height=\"24px\"viewBox=\"0 0 24 24\"\n",
              "     width=\"24px\">\n",
              "    <g>\n",
              "        <path d=\"M19 3H5c-1.1 0-2 .9-2 2v14c0 1.1.9 2 2 2h14c1.1 0 2-.9 2-2V5c0-1.1-.9-2-2-2zM9 17H7v-7h2v7zm4 0h-2V7h2v10zm4 0h-2v-4h2v4z\"/>\n",
              "    </g>\n",
              "</svg>\n",
              "  </button>\n",
              "\n",
              "<style>\n",
              "  .colab-df-quickchart {\n",
              "      --bg-color: #E8F0FE;\n",
              "      --fill-color: #1967D2;\n",
              "      --hover-bg-color: #E2EBFA;\n",
              "      --hover-fill-color: #174EA6;\n",
              "      --disabled-fill-color: #AAA;\n",
              "      --disabled-bg-color: #DDD;\n",
              "  }\n",
              "\n",
              "  [theme=dark] .colab-df-quickchart {\n",
              "      --bg-color: #3B4455;\n",
              "      --fill-color: #D2E3FC;\n",
              "      --hover-bg-color: #434B5C;\n",
              "      --hover-fill-color: #FFFFFF;\n",
              "      --disabled-bg-color: #3B4455;\n",
              "      --disabled-fill-color: #666;\n",
              "  }\n",
              "\n",
              "  .colab-df-quickchart {\n",
              "    background-color: var(--bg-color);\n",
              "    border: none;\n",
              "    border-radius: 50%;\n",
              "    cursor: pointer;\n",
              "    display: none;\n",
              "    fill: var(--fill-color);\n",
              "    height: 32px;\n",
              "    padding: 0;\n",
              "    width: 32px;\n",
              "  }\n",
              "\n",
              "  .colab-df-quickchart:hover {\n",
              "    background-color: var(--hover-bg-color);\n",
              "    box-shadow: 0 1px 2px rgba(60, 64, 67, 0.3), 0 1px 3px 1px rgba(60, 64, 67, 0.15);\n",
              "    fill: var(--button-hover-fill-color);\n",
              "  }\n",
              "\n",
              "  .colab-df-quickchart-complete:disabled,\n",
              "  .colab-df-quickchart-complete:disabled:hover {\n",
              "    background-color: var(--disabled-bg-color);\n",
              "    fill: var(--disabled-fill-color);\n",
              "    box-shadow: none;\n",
              "  }\n",
              "\n",
              "  .colab-df-spinner {\n",
              "    border: 2px solid var(--fill-color);\n",
              "    border-color: transparent;\n",
              "    border-bottom-color: var(--fill-color);\n",
              "    animation:\n",
              "      spin 1s steps(1) infinite;\n",
              "  }\n",
              "\n",
              "  @keyframes spin {\n",
              "    0% {\n",
              "      border-color: transparent;\n",
              "      border-bottom-color: var(--fill-color);\n",
              "      border-left-color: var(--fill-color);\n",
              "    }\n",
              "    20% {\n",
              "      border-color: transparent;\n",
              "      border-left-color: var(--fill-color);\n",
              "      border-top-color: var(--fill-color);\n",
              "    }\n",
              "    30% {\n",
              "      border-color: transparent;\n",
              "      border-left-color: var(--fill-color);\n",
              "      border-top-color: var(--fill-color);\n",
              "      border-right-color: var(--fill-color);\n",
              "    }\n",
              "    40% {\n",
              "      border-color: transparent;\n",
              "      border-right-color: var(--fill-color);\n",
              "      border-top-color: var(--fill-color);\n",
              "    }\n",
              "    60% {\n",
              "      border-color: transparent;\n",
              "      border-right-color: var(--fill-color);\n",
              "    }\n",
              "    80% {\n",
              "      border-color: transparent;\n",
              "      border-right-color: var(--fill-color);\n",
              "      border-bottom-color: var(--fill-color);\n",
              "    }\n",
              "    90% {\n",
              "      border-color: transparent;\n",
              "      border-bottom-color: var(--fill-color);\n",
              "    }\n",
              "  }\n",
              "</style>\n",
              "\n",
              "  <script>\n",
              "    async function quickchart(key) {\n",
              "      const quickchartButtonEl =\n",
              "        document.querySelector('#' + key + ' button');\n",
              "      quickchartButtonEl.disabled = true;  // To prevent multiple clicks.\n",
              "      quickchartButtonEl.classList.add('colab-df-spinner');\n",
              "      try {\n",
              "        const charts = await google.colab.kernel.invokeFunction(\n",
              "            'suggestCharts', [key], {});\n",
              "      } catch (error) {\n",
              "        console.error('Error during call to suggestCharts:', error);\n",
              "      }\n",
              "      quickchartButtonEl.classList.remove('colab-df-spinner');\n",
              "      quickchartButtonEl.classList.add('colab-df-quickchart-complete');\n",
              "    }\n",
              "    (() => {\n",
              "      let quickchartButtonEl =\n",
              "        document.querySelector('#df-d9e5aa34-92b6-4fb4-9aa4-cd8a0f3a075d button');\n",
              "      quickchartButtonEl.style.display =\n",
              "        google.colab.kernel.accessAllowed ? 'block' : 'none';\n",
              "    })();\n",
              "  </script>\n",
              "</div>\n",
              "\n",
              "    </div>\n",
              "  </div>\n"
            ],
            "application/vnd.google.colaboratory.intrinsic+json": {
              "type": "dataframe",
              "variable_name": "df",
              "summary": "{\n  \"name\": \"df\",\n  \"rows\": 240,\n  \"fields\": [\n    {\n      \"column\": \"Temperature (K)\",\n      \"properties\": {\n        \"dtype\": \"number\",\n        \"std\": 9552,\n        \"min\": 1939,\n        \"max\": 40000,\n        \"num_unique_values\": 228,\n        \"samples\": [\n          10930,\n          3345,\n          3600\n        ],\n        \"semantic_type\": \"\",\n        \"description\": \"\"\n      }\n    },\n    {\n      \"column\": \"Luminosity(L/Lo)\",\n      \"properties\": {\n        \"dtype\": \"number\",\n        \"std\": 179432.2449402145,\n        \"min\": 8e-05,\n        \"max\": 849420.0,\n        \"num_unique_values\": 208,\n        \"samples\": [\n          0.000957,\n          0.0018,\n          0.00135\n        ],\n        \"semantic_type\": \"\",\n        \"description\": \"\"\n      }\n    },\n    {\n      \"column\": \"Radius(R/Ro)\",\n      \"properties\": {\n        \"dtype\": \"number\",\n        \"std\": 517.1557634028478,\n        \"min\": 0.0084,\n        \"max\": 1948.5,\n        \"num_unique_values\": 216,\n        \"samples\": [\n          81.0,\n          1423.0,\n          5.92\n        ],\n        \"semantic_type\": \"\",\n        \"description\": \"\"\n      }\n    },\n    {\n      \"column\": \"Absolute magnitude(Mv)\",\n      \"properties\": {\n        \"dtype\": \"number\",\n        \"std\": 10.53251235061617,\n        \"min\": -11.92,\n        \"max\": 20.06,\n        \"num_unique_values\": 228,\n        \"samples\": [\n          -6.224,\n          18.34,\n          16.05\n        ],\n        \"semantic_type\": \"\",\n        \"description\": \"\"\n      }\n    },\n    {\n      \"column\": \"Star type\",\n      \"properties\": {\n        \"dtype\": \"number\",\n        \"std\": 1,\n        \"min\": 0,\n        \"max\": 5,\n        \"num_unique_values\": 6,\n        \"samples\": [\n          0,\n          1,\n          5\n        ],\n        \"semantic_type\": \"\",\n        \"description\": \"\"\n      }\n    },\n    {\n      \"column\": \"Star color\",\n      \"properties\": {\n        \"dtype\": \"category\",\n        \"num_unique_values\": 19,\n        \"samples\": [\n          \"Red\",\n          \"Pale yellow orange\",\n          \"White-Yellow\"\n        ],\n        \"semantic_type\": \"\",\n        \"description\": \"\"\n      }\n    },\n    {\n      \"column\": \"Spectral Class\",\n      \"properties\": {\n        \"dtype\": \"category\",\n        \"num_unique_values\": 7,\n        \"samples\": [\n          \"M\",\n          \"B\",\n          \"K\"\n        ],\n        \"semantic_type\": \"\",\n        \"description\": \"\"\n      }\n    }\n  ]\n}"
            }
          },
          "metadata": {},
          "execution_count": 17
        }
      ]
    },
    {
      "cell_type": "code",
      "source": [
        "import numpy as np\n",
        "import torch\n",
        "from torch.utils.data import Dataset, DataLoader\n",
        "from sklearn.model_selection import train_test_split\n",
        "from sklearn.preprocessing import StandardScaler\n",
        "\n",
        "# Preprocess and prepare data\n",
        "class StarDataset(Dataset):\n",
        "    def __init__(self, split=\"train\"):\n",
        "      df = pd.read_csv(\"/content/6 class csv.csv\").sample(frac=1, random_state=1999) # Shuffle required - class labels in order\n",
        "      # One hot encode\n",
        "      df = pd.get_dummies(df, columns=['Star color', 'Spectral Class'])\n",
        "      # Extract features and target vars\n",
        "      labels = df[['Star type']]\n",
        "      df = pd.get_dummies(df, columns=['Star type']) # Encode target var\n",
        "      labels = df.iloc[:, -6:].astype(int).values\n",
        "      features = df.iloc[:, :-6].astype(float).values\n",
        "\n",
        "      # Split into train-test-val sets\n",
        "      X_train, X_temp, y_train, y_temp = train_test_split(features, labels, test_size=0.3, random_state=1999)\n",
        "      X_val, X_test, y_val, y_test = train_test_split(X_temp, y_temp, test_size=0.5, random_state=1999)\n",
        "\n",
        "      # Standardize features\n",
        "      scaler = StandardScaler()\n",
        "      X_train_scaled = scaler.fit_transform(X_train)\n",
        "      X_val_scaled = scaler.transform(X_val)\n",
        "      X_test_scaled = scaler.transform(X_test)\n",
        "\n",
        "      # Assign data splits\n",
        "      self.train = (X_train_scaled, y_train)\n",
        "      self.val = (X_val_scaled, y_val)\n",
        "      self.test = (X_test_scaled, y_test)\n",
        "\n",
        "      # Set features and labels based on the specified split\n",
        "      if split == \"train\":\n",
        "        self.features, self.labels = self.train\n",
        "      elif split == \"val\":\n",
        "        self.features, self.labels = self.val\n",
        "      elif split == \"test\":\n",
        "        self.features, self.labels = self.test\n",
        "      else:\n",
        "        raise ValueError(\"Split type invalid.\")\n",
        "\n",
        "    def __len__(self):\n",
        "      # Return the length of the dataset\n",
        "      return len(self.features)\n",
        "\n",
        "    def __getitem__(self, idx):\n",
        "      # Return features and labels for a given index\n",
        "      features = torch.tensor(self.features[idx], dtype=torch.float32)\n",
        "      labels = torch.tensor(self.labels[idx], dtype=torch.float32)\n",
        "      return features, labels\n",
        ""
      ],
      "metadata": {
        "id": "49tNHrotBgrn"
      },
      "execution_count": 200,
      "outputs": []
    },
    {
      "cell_type": "code",
      "source": [
        "# Create datasets\n",
        "train_dataset = StarDataset()\n",
        "test_dataset = StarDataset(split=\"test\")\n",
        "val_dataset = StarDataset(split='val')"
      ],
      "metadata": {
        "id": "vjkT5TTFzWOW"
      },
      "execution_count": 201,
      "outputs": []
    },
    {
      "cell_type": "code",
      "source": [
        "# Len check\n",
        "train_dataset.__len__(), test_dataset.__len__(), val_dataset.__len__()"
      ],
      "metadata": {
        "colab": {
          "base_uri": "https://localhost:8080/"
        },
        "id": "iVeiHoSw_itu",
        "outputId": "0c854a58-fb12-4dc2-a0a9-0b88c4acb9a2"
      },
      "execution_count": 202,
      "outputs": [
        {
          "output_type": "execute_result",
          "data": {
            "text/plain": [
              "(168, 36, 36)"
            ]
          },
          "metadata": {},
          "execution_count": 202
        }
      ]
    },
    {
      "cell_type": "code",
      "source": [
        "train_dataset[0]"
      ],
      "metadata": {
        "colab": {
          "base_uri": "https://localhost:8080/"
        },
        "id": "5JsAsoYO3VLr",
        "outputId": "4917d1df-0fd3-40cf-bbb5-eedb31ed9068"
      },
      "execution_count": 203,
      "outputs": [
        {
          "output_type": "execute_result",
          "data": {
            "text/plain": [
              "(tensor([ 0.0470,  0.3419,  3.1139, -1.4434,  1.5520, -0.5498, -0.0774, -0.2085,\n",
              "         -0.1098, -0.0774, -0.0774,  2.9803, -0.1098, -0.0774, -0.0774, -0.9535,\n",
              "         -0.1348, -0.0774,  0.0000, -0.0774, -0.0774, -0.1348, -0.1751, -0.1098,\n",
              "         -0.2516]),\n",
              " tensor([1., 0., 0., 0., 0., 0.]))"
            ]
          },
          "metadata": {},
          "execution_count": 203
        }
      ]
    },
    {
      "cell_type": "code",
      "source": [
        "# Validate dataset formation\n",
        "for ele in range(160,train_dataset.__len__()):\n",
        "  print(train_dataset[ele])"
      ],
      "metadata": {
        "colab": {
          "base_uri": "https://localhost:8080/"
        },
        "id": "vKq4rEoQ_V5P",
        "outputId": "0bcb1826-6bae-4bbd-f8f3-17653453e83d"
      },
      "execution_count": 204,
      "outputs": [
        {
          "output_type": "stream",
          "name": "stdout",
          "text": [
            "(tensor([ 1.1760, -0.5317, -0.4150, -0.7352,  0.3614, -0.5498, -0.0774, -0.2085,\n",
            "        -0.1098, -0.0774, -0.0774,  2.9803, -0.1098, -0.0774, -0.0774, -0.9535,\n",
            "        -0.1348, -0.0774,  0.0000, -0.0774, -0.0774, -0.1348, -0.1751, -0.1098,\n",
            "        -0.2516]), tensor([1., 0., 0., 0., 0., 0.]))\n",
            "(tensor([-0.7583, -0.5678, -0.4280,  1.1410, -1.4245, -0.5498, -0.0774, -0.2085,\n",
            "        -0.1098, -0.0774, -0.0774, -0.3355, -0.1098, -0.0774, -0.0774,  1.0488,\n",
            "        -0.1348, -0.0774,  0.0000, -0.0774, -0.0774, -0.1348, -0.1751, -0.1098,\n",
            "        -0.2516]), tensor([0., 0., 0., 0., 1., 0.]))\n",
            "(tensor([-0.7289, -0.5678, -0.4278,  1.1429, -1.4245, -0.5498, -0.0774, -0.2085,\n",
            "        -0.1098, -0.0774, -0.0774, -0.3355, -0.1098, -0.0774, -0.0774,  1.0488,\n",
            "        -0.1348, -0.0774,  0.0000, -0.0774, -0.0774, -0.1348, -0.1751, -0.1098,\n",
            "        -0.2516]), tensor([0., 0., 0., 0., 1., 0.]))\n",
            "(tensor([-0.7196, -0.5678, -0.4276,  0.7083, -0.8292, -0.5498, -0.0774, -0.2085,\n",
            "        -0.1098, -0.0774, -0.0774, -0.3355, -0.1098, -0.0774, -0.0774,  1.0488,\n",
            "        -0.1348, -0.0774,  0.0000, -0.0774, -0.0774, -0.1348, -0.1751, -0.1098,\n",
            "        -0.2516]), tensor([0., 0., 0., 0., 1., 0.]))\n",
            "(tensor([ 0.2187,  1.8510, -0.2630, -1.0310,  0.9567,  1.8187, -0.0774, -0.2085,\n",
            "        -0.1098, -0.0774, -0.0774, -0.3355, -0.1098, -0.0774, -0.0774, -0.9535,\n",
            "        -0.1348, -0.0774,  0.0000, -0.0774, -0.0774, -0.1348, -0.1751, -0.1098,\n",
            "        -0.2516]), tensor([0., 0., 0., 0., 0., 1.]))\n",
            "(tensor([ 0.7564, -0.5678, -0.4282,  0.6341, -0.2339,  1.8187, -0.0774, -0.2085,\n",
            "        -0.1098, -0.0774, -0.0774, -0.3355, -0.1098, -0.0774, -0.0774, -0.9535,\n",
            "        -0.1348, -0.0774,  0.0000, -0.0774, -0.0774, -0.1348, -0.1751, -0.1098,\n",
            "        -0.2516]), tensor([1., 0., 0., 0., 0., 0.]))\n",
            "(tensor([ 0.2504, -0.5678, -0.4282,  0.5927, -0.2339, -0.5498, -0.0774,  4.7958,\n",
            "        -0.1098, -0.0774, -0.0774, -0.3355, -0.1098, -0.0774, -0.0774, -0.9535,\n",
            "        -0.1348, -0.0774,  0.0000, -0.0774, -0.0774, -0.1348, -0.1751, -0.1098,\n",
            "        -0.2516]), tensor([1., 0., 0., 0., 0., 0.]))\n",
            "(tensor([-0.7092,  0.4168, -0.2610, -1.1389,  0.9567, -0.5498, -0.0774, -0.2085,\n",
            "        -0.1098, -0.0774, -0.0774, -0.3355, -0.1098, -0.0774, -0.0774,  1.0488,\n",
            "        -0.1348, -0.0774,  0.0000, -0.0774, -0.0774, -0.1348, -0.1751, -0.1098,\n",
            "        -0.2516]), tensor([0., 0., 0., 0., 1., 0.]))\n"
          ]
        }
      ]
    },
    {
      "cell_type": "code",
      "source": [
        "# Create dataloaders\n",
        "train_loader = DataLoader(train_dataset, batch_size=4, shuffle=True, drop_last=True, num_workers=2)\n",
        "test_loader = DataLoader(test_dataset, batch_size=4, shuffle=False, drop_last=True, num_workers=2)\n",
        "val_loader = DataLoader(val_dataset, batch_size=4, shuffle=False, drop_last=True, num_workers=2)"
      ],
      "metadata": {
        "id": "VbOxQ-uS_k5h"
      },
      "execution_count": 205,
      "outputs": []
    },
    {
      "cell_type": "code",
      "source": [
        "# Validate dataloader formation\n",
        "for i, j in enumerate(train_loader):\n",
        "  print(i, j)\n",
        "  break"
      ],
      "metadata": {
        "colab": {
          "base_uri": "https://localhost:8080/"
        },
        "id": "KH_E7eyv_tQe",
        "outputId": "ea46d6fe-45b6-4849-fabb-fae0a7cae921"
      },
      "execution_count": 206,
      "outputs": [
        {
          "output_type": "stream",
          "name": "stdout",
          "text": [
            "0 [tensor([[-0.7635, -0.5678, -0.4272,  0.5580, -0.8292, -0.5498, -0.0774, -0.2085,\n",
            "         -0.1098, -0.0774, -0.0774, -0.3355, -0.1098, -0.0774, -0.0774,  1.0488,\n",
            "         -0.1348, -0.0774,  0.0000, -0.0774, -0.0774, -0.1348, -0.1751, -0.1098,\n",
            "         -0.2516],\n",
            "        [ 0.7564, -0.5678, -0.4282,  0.6341, -0.2339,  1.8187, -0.0774, -0.2085,\n",
            "         -0.1098, -0.0774, -0.0774, -0.3355, -0.1098, -0.0774, -0.0774, -0.9535,\n",
            "         -0.1348, -0.0774,  0.0000, -0.0774, -0.0774, -0.1348, -0.1751, -0.1098,\n",
            "         -0.2516],\n",
            "        [-0.7509, -0.5678, -0.4280,  1.1814, -1.4245, -0.5498, -0.0774, -0.2085,\n",
            "         -0.1098, -0.0774, -0.0774, -0.3355, -0.1098, -0.0774, -0.0774,  1.0488,\n",
            "         -0.1348, -0.0774,  0.0000, -0.0774, -0.0774, -0.1348, -0.1751, -0.1098,\n",
            "         -0.2516],\n",
            "        [-0.7600, -0.5678, -0.4275,  0.6466, -0.8292, -0.5498, -0.0774, -0.2085,\n",
            "         -0.1098, -0.0774, -0.0774, -0.3355, -0.1098, -0.0774, -0.0774,  1.0488,\n",
            "         -0.1348, -0.0774,  0.0000, -0.0774, -0.0774, -0.1348, -0.1751, -0.1098,\n",
            "         -0.2516]]), tensor([[0., 0., 0., 0., 1., 0.],\n",
            "        [1., 0., 0., 0., 0., 0.],\n",
            "        [0., 0., 0., 0., 1., 0.],\n",
            "        [0., 0., 0., 0., 1., 0.]])]\n"
          ]
        }
      ]
    },
    {
      "cell_type": "code",
      "source": [
        "# cnt = 0\n",
        "# for epc in [1, 2, 3]:\n",
        "#   for features, label in train_loader:\n",
        "#     if cnt ==0:\n",
        "#       print(features, label)\n",
        "#       cnt += 1\n",
        "#     print(features.size(), label.size())\n"
      ],
      "metadata": {
        "id": "fPPHUziQADv_"
      },
      "execution_count": 207,
      "outputs": []
    },
    {
      "cell_type": "code",
      "source": [
        "# Custom model adapted to our Star classification use case\n",
        "from torch import nn\n",
        "from torchvision.models import resnet18, ResNet18_Weights\n",
        "\n",
        "class StarClassifier(nn.Module):\n",
        "    def __init__(self, input_dim, hidden_dim, num_classes):\n",
        "        super(StarClassifier, self).__init__()\n",
        "        # Define layers\n",
        "        self.fc1 = nn.Linear(input_dim, hidden_dim) #\n",
        "        self.fc2 = nn.Linear(hidden_dim, hidden_dim)\n",
        "        self.out_layer = nn.Linear(hidden_dim, num_classes)\n",
        "        self.relu = nn.ReLU()\n",
        "\n",
        "    def forward(self, x):\n",
        "        # Forward pass\n",
        "        x = self.relu(self.fc1(x))\n",
        "        x = self.relu(self.fc2(x))\n",
        "        x = self.out_layer(x)\n",
        "        return x"
      ],
      "metadata": {
        "id": "_wQBjdjvFATx"
      },
      "execution_count": 214,
      "outputs": []
    },
    {
      "cell_type": "code",
      "source": [
        "# Init custom StarClassifier model\n",
        "num_classes = 6\n",
        "input_dim = train_dataset.features.shape[1]\n",
        "hidden_dim = 64\n",
        "model = StarClassifier(input_dim, hidden_dim, num_classes)"
      ],
      "metadata": {
        "id": "wLHWwU-QFDsb"
      },
      "execution_count": 215,
      "outputs": []
    },
    {
      "cell_type": "code",
      "source": [
        "import torch.optim as optim\n",
        "\n",
        "# Define training func\n",
        "def train(model, train_loader, val_loader, epochs=15):\n",
        "    criterion = nn.CrossEntropyLoss() # Define loss\n",
        "    optimizer = optim.Adam(model.parameters(), lr=0.001) # Init optimizer\n",
        "\n",
        "    for epoch in range(epochs):\n",
        "      # Training\n",
        "        model.train() # Model set to train mode\n",
        "        total_loss = 0 # Total loss for this epoch\n",
        "\n",
        "        # Iterate over batches in dataloader\n",
        "        for features, labels in train_loader:\n",
        "            optimizer.zero_grad() # Zero out grads\n",
        "            outputs = model(features) # Fwd pass, comp model out\n",
        "            loss = criterion(outputs, labels) # Comp loss\n",
        "            loss.backward() # Backprop to comp grads\n",
        "            optimizer.step() # Update model params\n",
        "            total_loss += loss.item() # Accumulate batch loss\n",
        "\n",
        "        print(f\"Epoch {epoch+1}/{epochs}, Loss: {total_loss/len(train_loader)}\")\n",
        "\n",
        "        # Validation\n",
        "        model.eval() # Model set to eval mode\n",
        "        total_val_loss = 0 # Total val loss\n",
        "        correct = 0 # #of correct preds\n",
        "        total = 0 # Total # preds made\n",
        "\n",
        "        # Gradients are not comp during val/eval phase\n",
        "        with torch.no_grad():\n",
        "            # Iterate over val_loader batches\n",
        "            for features, labels in val_loader:\n",
        "                outputs = model(features) # Fwd pass - comp model outs\n",
        "                loss = criterion(outputs, labels) # Comp val loss\n",
        "                total_val_loss += loss.item() # Accumulate val loss\n",
        "                _, predicted = torch.max(outputs.data, 1) # Get pred class\n",
        "                total += labels.size(0)\n",
        "                correct += (predicted == torch.argmax(labels, dim=1)).sum().item() # Cnt Correct preds\n",
        "\n",
        "        print(f\"Validation Loss: {total_val_loss/len(val_loader)}\")\n",
        "        print(f\"Validation Accuracy: {100 * correct / total}%\")\n",
        "\n",
        "# Train the model\n",
        "train(model, train_loader, val_loader, epochs=15)"
      ],
      "metadata": {
        "colab": {
          "base_uri": "https://localhost:8080/"
        },
        "id": "EZQVUGKXGfjE",
        "outputId": "d3f01651-10d1-4595-db71-3d89a092e42f"
      },
      "execution_count": 216,
      "outputs": [
        {
          "output_type": "stream",
          "name": "stdout",
          "text": [
            "Epoch 1/15, Loss: 1.5143501815341769\n",
            "Validation Loss: 1.2088967561721802\n",
            "Validation Accuracy: 88.88888888888889%\n",
            "Epoch 2/15, Loss: 0.9226263981489908\n",
            "Validation Loss: 0.5116879277759128\n",
            "Validation Accuracy: 97.22222222222223%\n",
            "Epoch 3/15, Loss: 0.43414605213772683\n",
            "Validation Loss: 0.2021969167722596\n",
            "Validation Accuracy: 97.22222222222223%\n",
            "Epoch 4/15, Loss: 0.2369448540820962\n",
            "Validation Loss: 0.13748991986115774\n",
            "Validation Accuracy: 97.22222222222223%\n",
            "Epoch 5/15, Loss: 0.16180765768513083\n",
            "Validation Loss: 0.08527907191051377\n",
            "Validation Accuracy: 97.22222222222223%\n",
            "Epoch 6/15, Loss: 0.12790452613539638\n",
            "Validation Loss: 0.0640392622186078\n",
            "Validation Accuracy: 97.22222222222223%\n",
            "Epoch 7/15, Loss: 0.11642233439765516\n",
            "Validation Loss: 0.04256307354403867\n",
            "Validation Accuracy: 97.22222222222223%\n",
            "Epoch 8/15, Loss: 0.1161257500172637\n",
            "Validation Loss: 0.07079499007927047\n",
            "Validation Accuracy: 94.44444444444444%\n",
            "Epoch 9/15, Loss: 0.10875373038773735\n",
            "Validation Loss: 0.05386512250536018\n",
            "Validation Accuracy: 97.22222222222223%\n",
            "Epoch 10/15, Loss: 0.09953772856776293\n",
            "Validation Loss: 0.036741141954229936\n",
            "Validation Accuracy: 97.22222222222223%\n",
            "Epoch 11/15, Loss: 0.09732862519809887\n",
            "Validation Loss: 0.036576526136034064\n",
            "Validation Accuracy: 97.22222222222223%\n",
            "Epoch 12/15, Loss: 0.09632204195007771\n",
            "Validation Loss: 0.07653623871091339\n",
            "Validation Accuracy: 94.44444444444444%\n",
            "Epoch 13/15, Loss: 0.09681220480983722\n",
            "Validation Loss: 0.04262013790301151\n",
            "Validation Accuracy: 97.22222222222223%\n",
            "Epoch 14/15, Loss: 0.10007408175650719\n",
            "Validation Loss: 0.04762769412870208\n",
            "Validation Accuracy: 94.44444444444444%\n",
            "Epoch 15/15, Loss: 0.08800777314519066\n",
            "Validation Loss: 0.0377102785019411\n",
            "Validation Accuracy: 97.22222222222223%\n"
          ]
        }
      ]
    },
    {
      "cell_type": "code",
      "source": [
        "# Eval Phase\n",
        "def evaluate(model, test_loader):\n",
        "    model.eval()\n",
        "    correct = 0\n",
        "    total = 0\n",
        "    with torch.no_grad():\n",
        "        for features, labels in test_loader:\n",
        "            outputs = model(features)\n",
        "            _, predicted = torch.max(outputs.data, 1)\n",
        "            total += labels.size(0)\n",
        "            correct += (predicted == torch.argmax(labels, dim=1)).sum().item()\n",
        "\n",
        "    print(f\"Test Accuracy: {100 * correct / total}%\")\n",
        "\n",
        "evaluate(model, test_loader)"
      ],
      "metadata": {
        "colab": {
          "base_uri": "https://localhost:8080/"
        },
        "id": "ZyLtkXl7GuRd",
        "outputId": "f02503e0-f7c1-4088-cdcf-f0f14f4ca64c"
      },
      "execution_count": 217,
      "outputs": [
        {
          "output_type": "stream",
          "name": "stdout",
          "text": [
            "Test Accuracy: 91.66666666666667%\n"
          ]
        }
      ]
    },
    {
      "cell_type": "code",
      "source": [],
      "metadata": {
        "id": "TSNE7asAI-hn"
      },
      "execution_count": null,
      "outputs": []
    }
  ]
}